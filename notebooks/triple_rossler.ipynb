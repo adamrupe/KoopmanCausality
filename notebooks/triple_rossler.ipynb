{
 "cells": [
  {
   "cell_type": "code",
   "execution_count": 1,
   "id": "6d4c358d-c856-41f9-90ad-8c05d77047bb",
   "metadata": {},
   "outputs": [],
   "source": [
    "using DynamicalSystems, Plots, StatsBase, LaTeXStrings, Distributions, Statistics\n",
    "include(\"../src/KoopmanModels.jl\")\n",
    "using .KoopmanModels"
   ]
  },
  {
   "cell_type": "code",
   "execution_count": null,
   "id": "0cea01c1-8238-4af4-b688-8516c96d62ab",
   "metadata": {},
   "outputs": [],
   "source": []
  },
  {
   "cell_type": "code",
   "execution_count": 2,
   "id": "62383b9e-e250-4dc9-9b6b-9e6d0c06fef4",
   "metadata": {},
   "outputs": [
    {
     "data": {
      "text/plain": [
       "roessler_confounder (generic function with 1 method)"
      ]
     },
     "execution_count": 2,
     "metadata": {},
     "output_type": "execute_result"
    }
   ],
   "source": [
    "function roessler_confounder(u,p,t)\n",
    "    ω1, ω2, ω3, a, b, c, k12, k13 = p\n",
    "\n",
    "    du1 = -ω1*u[2] - u[3]\n",
    "    du2 = ω1*u[1] + a*u[2] #+ k21*(u[5]-u[2])\n",
    "    du3 = b + u[3]*(u[1]-c)\n",
    "    \n",
    "    du4 = -ω2*u[5] - u[6]\n",
    "    du5 = ω2*u[4] + a*u[5] + k12*(u[2]-u[5])\n",
    "    du6 = b + u[6]*(u[4]-c)\n",
    "    \n",
    "    du7 = -ω3*u[8] - u[9]\n",
    "    du8 = ω3*u[7] + a*u[8] + k13*(u[2]-u[8])\n",
    "    du9 = b + u[9]*(u[7]-c)\n",
    "    return SVector(du1,du2,du3,du4,du5,du6,du7,du8,du9)\n",
    "end"
   ]
  },
  {
   "cell_type": "code",
   "execution_count": 3,
   "id": "00218a61-73d0-4f62-b11c-51b6ef2b6716",
   "metadata": {},
   "outputs": [
    {
     "data": {
      "text/plain": [
       "roessler_confounder_collider"
      ]
     },
     "execution_count": 3,
     "metadata": {},
     "output_type": "execute_result"
    }
   ],
   "source": [
    "\"\"\"\n",
    "Three coupled Rosslers with 1->2, 1-3, and 3->2\n",
    "\"\"\"\n",
    "function roessler_confounder_collider(u,p,t)\n",
    "    ω1, ω2, ω3, a, b, c, k132, k13 = p\n",
    "\n",
    "    du1 = -ω1*u[2] - u[3]\n",
    "    du2 = ω1*u[1] + a*u[2] \n",
    "    du3 = b + u[3]*(u[1]-c)\n",
    "    \n",
    "    du4 = -ω2*u[5] - u[6]\n",
    "    du5 = ω2*u[4] + a*u[5] + k132*(0.5*(u[2]+u[8])-u[5])\n",
    "    du6 = b + u[6]*(u[4]-c)\n",
    "    \n",
    "    du7 = -ω3*u[8] - u[9]\n",
    "    du8 = ω3*u[7] + a*u[8] + k13*(u[2]-u[8])\n",
    "    du9 = b + u[9]*(u[7]-c)\n",
    "    return SVector(du1,du2,du3,du4,du5,du6,du7,du8,du9)\n",
    "end"
   ]
  }
 ],
 "metadata": {
  "kernelspec": {
   "display_name": "Julia 1.11.1",
   "language": "julia",
   "name": "julia-1.11"
  },
  "language_info": {
   "file_extension": ".jl",
   "mimetype": "application/julia",
   "name": "julia",
   "version": "1.11.1"
  }
 },
 "nbformat": 4,
 "nbformat_minor": 5
}
