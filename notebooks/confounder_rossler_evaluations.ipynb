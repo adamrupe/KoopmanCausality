{
 "cells": [
  {
   "cell_type": "code",
   "execution_count": 1,
   "id": "0bb5e3f3-203e-4455-a8ab-c345fa724959",
   "metadata": {
    "scrolled": true
   },
   "outputs": [],
   "source": [
    "using DynamicalSystems, Plots, NPZ\n",
    "import Distributions: Distribution, Normal\n",
    "include(\"../src/KoopmanCausality.jl\")\n",
    "using .KoopmanCausality"
   ]
  },
  {
   "cell_type": "code",
   "execution_count": null,
   "id": "8f9807b4-7f9f-485e-a4dd-56a9f5c4d010",
   "metadata": {},
   "outputs": [],
   "source": []
  },
  {
   "cell_type": "code",
   "execution_count": 2,
   "id": "b619f26a-dfb6-4244-8653-8672d25106d3",
   "metadata": {},
   "outputs": [
    {
     "data": {
      "text/plain": [
       "(3, 500001)"
      ]
     },
     "execution_count": 2,
     "metadata": {},
     "output_type": "execute_result"
    }
   ],
   "source": [
    "X2_train = npzread(\"rossler_confounder_data/rossler_confounder_train_X2.npy\")\n",
    "X3_train = npzread(\"rossler_confounder_data/rossler_confounder_train_X3.npy\")\n",
    "Y2_train = npzread(\"rossler_confounder_data/rossler_confounder_train_Y2.npy\")\n",
    "Y3_train = npzread(\"rossler_confounder_data/rossler_confounder_train_Y3.npy\")\n",
    "size(X2_train)"
   ]
  },
  {
   "cell_type": "code",
   "execution_count": 3,
   "id": "76627e84-be2e-411a-bc6c-b4d55b7f1bfa",
   "metadata": {},
   "outputs": [
    {
     "data": {
      "text/plain": [
       "(3, 20001, 100)"
      ]
     },
     "execution_count": 3,
     "metadata": {},
     "output_type": "execute_result"
    }
   ],
   "source": [
    "X2_test = npzread(\"rossler_confounder_data/rossler_confounder_test_X2.npy\")\n",
    "X3_test = npzread(\"rossler_confounder_data/rossler_confounder_test_X3.npy\")\n",
    "Y2_test = npzread(\"rossler_confounder_data/rossler_confounder_test_Y2.npy\")\n",
    "Y3_test = npzread(\"rossler_confounder_data/rossler_confounder_test_Y3.npy\")\n",
    "size(X2_test)"
   ]
  },
  {
   "cell_type": "code",
   "execution_count": null,
   "id": "9bce11ea-feb5-4550-a6d2-2c0809544c7d",
   "metadata": {},
   "outputs": [],
   "source": []
  },
  {
   "cell_type": "markdown",
   "id": "ab2777e4-660f-44a7-a398-3c62a8933459",
   "metadata": {},
   "source": [
    "hyperparameters for brute-force optimization "
   ]
  },
  {
   "cell_type": "code",
   "execution_count": 6,
   "id": "4bdfad8e-4e27-4b11-8d9f-4d307bc620f6",
   "metadata": {},
   "outputs": [],
   "source": [
    "σs = [2.0, 1.0, 0.5, 0.25, 0.1, 0.05, 0.01, 0.005, 0.001, 0.0005]\n",
    "N_samples = 5\n",
    "N_features = 150\n",
    "N_vars_marg = 3\n",
    "N_vars_joint = 6;"
   ]
  },
  {
   "cell_type": "code",
   "execution_count": null,
   "id": "188d5deb-83a0-4079-9ff2-4696099307ac",
   "metadata": {},
   "outputs": [],
   "source": []
  },
  {
   "cell_type": "markdown",
   "id": "8206813a-4094-4705-a777-8ea246afd27a",
   "metadata": {},
   "source": [
    "### 2-> 3"
   ]
  },
  {
   "cell_type": "markdown",
   "id": "044b6abf-4ac9-474f-9da4-05c35e4c12c7",
   "metadata": {},
   "source": [
    "### setup the model space for hyperparameter optimization\n",
    "\n",
    "Randomly sample RFFs 5 times for each value of the variance hyperparameter $\\sigma$ and create marginal and joint models for each of these dictionaries. "
   ]
  },
  {
   "cell_type": "code",
   "execution_count": 7,
   "id": "93bdd947-b625-4ad2-a576-8e2606c8ae27",
   "metadata": {},
   "outputs": [],
   "source": [
    "expanded_σs = []\n",
    "marg_models = []\n",
    "joint_models = []\n",
    "for σ in σs\n",
    "    for _ in 1:N_samples\n",
    "        push!(expanded_σs, σ)\n",
    "        marg_dist = Normal(0.0, σ)\n",
    "        marg_dict = RFF_dict(N_features, N_vars_marg, marg_dist)\n",
    "        marg_model = causal_DMD(X3_train, Y3_train, marg_dict)\n",
    "        push!(marg_models, marg_model)\n",
    "        \n",
    "        joint_dist = Normal(0.0, σ)\n",
    "        joint_dict = RFF_dict(N_features, N_vars_joint, joint_dist)\n",
    "        joint_model = causal_DMD(X3_train, X2_train, Y3_train, joint_dict)\n",
    "        push!(joint_models, joint_model)\n",
    "    end\n",
    "end"
   ]
  },
  {
   "cell_type": "markdown",
   "id": "ed5ad04c-7a5b-4fcf-a05f-f2d9114fe738",
   "metadata": {},
   "source": [
    "For each test case, evaluate all of the models in the model space and take those with minimal error to compute the Koopman causality measure"
   ]
  },
  {
   "cell_type": "code",
   "execution_count": 8,
   "id": "b5bc4cac-1c9f-4cc7-88d0-3da87d312334",
   "metadata": {},
   "outputs": [],
   "source": [
    "N_tests = size(X3_test, 3)\n",
    "koop_causes = Vector{Float64}(undef, N_tests)\n",
    "for n in 1:N_tests\n",
    "    marg_err = Inf\n",
    "    joint_err = Inf\n",
    "    for(marg_model, joint_model) in zip(marg_models, joint_models)\n",
    "        marg = causal_eval(X3_test[:,:, n], Y3_test[:,:, n], marg_model)\n",
    "        marg_err = min(marg_err, marg)\n",
    "        joint = causal_eval(X3_test[:,:, n], X2_test[:,:, n], Y3_test[:,:, n], joint_model)\n",
    "        joint_err = min(joint_err, joint)\n",
    "    end\n",
    "    kcause = marg_err - joint_err\n",
    "    koop_causes[n] = kcause\n",
    "end"
   ]
  },
  {
   "cell_type": "code",
   "execution_count": 9,
   "id": "2f1ed6b7-5241-4932-983e-f413a61642e4",
   "metadata": {},
   "outputs": [
    {
     "data": {
      "text/plain": [
       "0.03259657827503104"
      ]
     },
     "execution_count": 9,
     "metadata": {},
     "output_type": "execute_result"
    }
   ],
   "source": [
    "maximum(koop_causes)"
   ]
  },
  {
   "cell_type": "code",
   "execution_count": 10,
   "id": "3da5fa43-0f90-4a3f-8715-1b850b7825b7",
   "metadata": {},
   "outputs": [
    {
     "data": {
      "text/plain": [
       "-0.08463581607284398"
      ]
     },
     "execution_count": 10,
     "metadata": {},
     "output_type": "execute_result"
    }
   ],
   "source": [
    "minimum(koop_causes)"
   ]
  },
  {
   "cell_type": "code",
   "execution_count": 11,
   "id": "ff39c5a2-2964-4dae-8d00-eca00f07feff",
   "metadata": {},
   "outputs": [
    {
     "data": {
      "text/plain": [
       "90"
      ]
     },
     "execution_count": 11,
     "metadata": {},
     "output_type": "execute_result"
    }
   ],
   "source": [
    "count = 0\n",
    "for kc in koop_causes\n",
    "    if kc < 0\n",
    "        count += 1\n",
    "    end\n",
    "end\n",
    "count"
   ]
  },
  {
   "cell_type": "markdown",
   "id": "58ecdf7f-d4e9-4d28-a6de-1aa3aa63271c",
   "metadata": {},
   "source": [
    "No causality is correctly identified in 90% of test cases, the other 10% incorrectly identify causality from the spurious correlation"
   ]
  },
  {
   "cell_type": "code",
   "execution_count": null,
   "id": "a096e1dc-1a5d-412c-b30d-5fc6f326f596",
   "metadata": {},
   "outputs": [],
   "source": []
  },
  {
   "cell_type": "markdown",
   "id": "9e642ac3-9a11-4ccc-a40c-ed36b2c31ea8",
   "metadata": {},
   "source": [
    "### 3-> 2"
   ]
  },
  {
   "cell_type": "markdown",
   "id": "73f026cc-9252-4edb-9e97-8b17838a987a",
   "metadata": {},
   "source": [
    "### setup the model space for hyperparameter optimization\n",
    "\n",
    "Randomly sample RFFs 5 times for each value of the variance hyperparameter $\\sigma$ and create marginal and joint models for each of these dictionaries. "
   ]
  },
  {
   "cell_type": "code",
   "execution_count": 12,
   "id": "fa8d3fd9-77d2-4182-a591-8aeafd945812",
   "metadata": {},
   "outputs": [],
   "source": [
    "expanded_σs = []\n",
    "marg_models = []\n",
    "joint_models = []\n",
    "for σ in σs\n",
    "    for _ in 1:N_samples\n",
    "        push!(expanded_σs, σ)\n",
    "        marg_dist = Normal(0.0, σ)\n",
    "        marg_dict = RFF_dict(N_features, N_vars_marg, marg_dist)\n",
    "        marg_model = causal_DMD(X2_train, Y2_train, marg_dict)\n",
    "        push!(marg_models, marg_model)\n",
    "        \n",
    "        joint_dist = Normal(0.0, σ)\n",
    "        joint_dict = RFF_dict(N_features, N_vars_joint, joint_dist)\n",
    "        joint_model = causal_DMD(X2_train, X3_train, Y2_train, joint_dict)\n",
    "        push!(joint_models, joint_model)\n",
    "    end\n",
    "end"
   ]
  },
  {
   "cell_type": "markdown",
   "id": "1656120a-44a7-47c7-bce7-a1b17a86ebe8",
   "metadata": {},
   "source": [
    "For each test case, evaluate all of the models in the model space and take those with minimal error to compute the Koopman causality measure"
   ]
  },
  {
   "cell_type": "code",
   "execution_count": 13,
   "id": "cb77501e-3a0f-4135-9f7e-eb87489d8d38",
   "metadata": {},
   "outputs": [],
   "source": [
    "N_tests = size(X3_test, 3)\n",
    "koop_causes = Vector{Float64}(undef, N_tests)\n",
    "for n in 1:N_tests\n",
    "    marg_err = Inf\n",
    "    joint_err = Inf\n",
    "    for(marg_model, joint_model) in zip(marg_models, joint_models)\n",
    "        marg = causal_eval(X2_test[:,:, n], Y2_test[:,:, n], marg_model)\n",
    "        marg_err = min(marg_err, marg)\n",
    "        joint = causal_eval(X2_test[:,:, n], X3_test[:,:, n], Y2_test[:,:, n], joint_model)\n",
    "        joint_err = min(joint_err, joint)\n",
    "    end\n",
    "    kcause = marg_err - joint_err\n",
    "    koop_causes[n] = kcause\n",
    "end"
   ]
  },
  {
   "cell_type": "code",
   "execution_count": 14,
   "id": "0a47989a-d2ad-4b04-b331-27b23632ed2a",
   "metadata": {},
   "outputs": [
    {
     "data": {
      "text/plain": [
       "0.008715766097400213"
      ]
     },
     "execution_count": 14,
     "metadata": {},
     "output_type": "execute_result"
    }
   ],
   "source": [
    "maximum(koop_causes)"
   ]
  },
  {
   "cell_type": "code",
   "execution_count": 15,
   "id": "24ed8b79-663a-4d14-b262-d86b077273c3",
   "metadata": {},
   "outputs": [
    {
     "data": {
      "text/plain": [
       "-0.1266983718977024"
      ]
     },
     "execution_count": 15,
     "metadata": {},
     "output_type": "execute_result"
    }
   ],
   "source": [
    "minimum(koop_causes)"
   ]
  },
  {
   "cell_type": "code",
   "execution_count": 16,
   "id": "357b8d5e-193f-4a0c-a52e-1f56dda71af1",
   "metadata": {},
   "outputs": [
    {
     "data": {
      "text/plain": [
       "97"
      ]
     },
     "execution_count": 16,
     "metadata": {},
     "output_type": "execute_result"
    }
   ],
   "source": [
    "count = 0\n",
    "for kc in koop_causes\n",
    "    if kc < 0\n",
    "        count += 1\n",
    "    end\n",
    "end\n",
    "count"
   ]
  },
  {
   "cell_type": "markdown",
   "id": "945c5398-32ab-42dd-89fa-bfaee89a1720",
   "metadata": {},
   "source": [
    "No causality is correctly identified in 97% of test cases, the other 3% incorrectly identify causality from the spurious correlation"
   ]
  },
  {
   "cell_type": "code",
   "execution_count": null,
   "id": "658d6efd-96d1-4ac9-8c61-69b502acbea3",
   "metadata": {},
   "outputs": [],
   "source": []
  }
 ],
 "metadata": {
  "kernelspec": {
   "display_name": "Julia 1.11.4",
   "language": "julia",
   "name": "julia-1.11"
  },
  "language_info": {
   "file_extension": ".jl",
   "mimetype": "application/julia",
   "name": "julia",
   "version": "1.11.4"
  }
 },
 "nbformat": 4,
 "nbformat_minor": 5
}
